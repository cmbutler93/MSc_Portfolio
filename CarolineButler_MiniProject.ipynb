{
 "cells": [
  {
   "cell_type": "code",
   "execution_count": 5,
   "metadata": {
    "collapsed": false
   },
   "outputs": [
    {
     "name": "stdout",
     "output_type": "stream",
     "text": [
      "The total number of passengers was: 1309\n",
      "The number of survivors was: 500\n",
      "The number of fatalities was: 809\n",
      "The average age of the survivors was: 28.918228103\n",
      "The standard deviation of the ages of the survivors is: 15.0438346521\n",
      "The average age of the deceased was: 30.5453688207\n",
      "The standard deviation of the ages of the deceased is: 13.9112881828\n",
      "The percentage of survivors from cabin class 1 was: 15.2788388083\n",
      "The percentage of survivors from cabin class 2 was: 9.09090909091\n",
      "The percentage of survivors from cabin class 3 was: 13.8273491215\n",
      "Enter a name to see if the passenger was on the titanic, and whether or not he or she survived.,Abbing,, Mr. Anthony,\n",
      "[[',Abbing,, Mr. Anthony,' '0']]\n",
      "survived\n"
     ]
    }
   ],
   "source": [
    "import csv\n",
    "import numpy as np\n",
    "import re\n",
    "import string\n",
    "\n",
    "def main():    \n",
    "    name = raw_input(\"Enter a name to see if the passenger was on the titanic, and whether or not he or she survived.\")\n",
    "    name = didPassengerSurvive(name)\n",
    "    \n",
    "\n",
    "def cabin_percent(total, cabin_size):\n",
    "    cabin = float(cabin_size)\n",
    "    totalb = float(total)\n",
    "    cabin_percentage = (cabin / totalb) * 100\n",
    "    return cabin_percentage\n",
    "    \n",
    "\n",
    "def didPassengerSurvive(name):\n",
    "    matches=titanic_dat[(titanic_dat[:,2]==name)]\n",
    "    print matches[:,[2,1]]\n",
    "    if len(matches[:,[2,1]]) == 0:\n",
    "        print \"Did not survive\"\n",
    "    else:\n",
    "        print \"survived\"\n",
    "\n",
    "        \n",
    "titanic_dat= np.loadtxt(open(\"titanic-data.csv\",\"rb\"),delimiter=\"\\t\",dtype = object, skiprows=1)\n",
    "names=\"pclass, survived, name, sex, age, sibsp, parch, ticket, fare, cabin, embarked, boat, body, home.dest\"\n",
    "fieldNames=names.split(\", \")\n",
    "print \"The total number of passengers was:\", len(titanic_dat)\n",
    "totala = len(titanic_dat)\n",
    "\n",
    "\n",
    "nsurvived=0\n",
    "for passenger in titanic_dat:\n",
    "    if passenger[1] == '1':\n",
    "        nsurvived+=1\n",
    "print \"The number of survivors was:\", nsurvived\n",
    "print \"The number of fatalities was:\", (len(titanic_dat)-nsurvived)\n",
    "\n",
    "\n",
    "survivorage_dat = titanic_dat[ (titanic_dat[:,1]=='1') & (titanic_dat[:,4]!= '')]\n",
    "print \"The average age of the survivors was:\", survivorage_dat[:,4].astype(np.float).mean()\n",
    "print \"The standard deviation of the ages of the survivors is:\", survivorage_dat[:,4].astype(np.float).std()\n",
    "\n",
    "\n",
    "deceasedage_dat = titanic_dat[ (titanic_dat[:,1]=='0') & (titanic_dat[:,4]!= '')]\n",
    "print \"The average age of the deceased was:\", deceasedage_dat[:,4].astype(np.float).mean()\n",
    "print \"The standard deviation of the ages of the deceased is:\", deceasedage_dat[:,4].astype(np.float).std()\n",
    "\n",
    "\n",
    "survivorcabin1_dat = titanic_dat[ (titanic_dat[:,1]=='1') & (titanic_dat[:,0]=='1')]\n",
    "cabin1 = len(survivorcabin1_dat)\n",
    "cab1_percent = cabin_percent(totala, cabin1)\n",
    "print \"The percentage of survivors from cabin class 1 was:\", cab1_percent \n",
    "\n",
    "\n",
    "survivorcabin2_dat = titanic_dat[ (titanic_dat[:,1]=='1') & (titanic_dat[:,0]=='2')]\n",
    "cabin2 = len(survivorcabin2_dat)\n",
    "cab2_percent = cabin_percent(totala, cabin2)\n",
    "print \"The percentage of survivors from cabin class 2 was:\", cab2_percent\n",
    "\n",
    "\n",
    "survivorcabin3_dat = titanic_dat[ (titanic_dat[:,1]=='1') & (titanic_dat[:,0]=='3')]\n",
    "cabin3 = len(survivorcabin3_dat)\n",
    "cab3_percent = cabin_percent(totala, cabin3)\n",
    "print \"The percentage of survivors from cabin class 3 was:\", cab3_percent\n",
    "\n",
    "\n",
    "if __name__ == \"__main__\":\n",
    "    main()\n",
    "\n"
   ]
  },
  {
   "cell_type": "code",
   "execution_count": null,
   "metadata": {
    "collapsed": true
   },
   "outputs": [],
   "source": []
  },
  {
   "cell_type": "code",
   "execution_count": null,
   "metadata": {
    "collapsed": true
   },
   "outputs": [],
   "source": []
  },
  {
   "cell_type": "code",
   "execution_count": null,
   "metadata": {
    "collapsed": true
   },
   "outputs": [],
   "source": []
  },
  {
   "cell_type": "code",
   "execution_count": null,
   "metadata": {
    "collapsed": true
   },
   "outputs": [],
   "source": []
  }
 ],
 "metadata": {
  "kernelspec": {
   "display_name": "Python 2",
   "language": "python",
   "name": "python2"
  },
  "language_info": {
   "codemirror_mode": {
    "name": "ipython",
    "version": 2
   },
   "file_extension": ".py",
   "mimetype": "text/x-python",
   "name": "python",
   "nbconvert_exporter": "python",
   "pygments_lexer": "ipython2",
   "version": "2.7.5"
  }
 },
 "nbformat": 4,
 "nbformat_minor": 0
}

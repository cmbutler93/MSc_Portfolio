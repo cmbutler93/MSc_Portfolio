{
 "cells": [
  {
   "cell_type": "code",
   "execution_count": 24,
   "metadata": {
    "collapsed": false
   },
   "outputs": [],
   "source": [
    "import urllib.request\n",
    "import pylab\n",
    "import igraph\n",
    "import matplotlib\n",
    "import pandas as pd\n",
    "import numpy\n",
    "import graphistry\n",
    "graphistry.register(key='a16918d5aaa30201ed0bbba1fc70a7e561b7740ca4713119165dd77011f68f29855fdced90924fa70aa4966625dfafad')\n",
    "%matplotlib inline"
   ]
  },
  {
   "cell_type": "code",
   "execution_count": 19,
   "metadata": {
    "collapsed": true
   },
   "outputs": [],
   "source": [
    "%qtconsole --colors=Linux"
   ]
  },
  {
   "cell_type": "code",
   "execution_count": 2,
   "metadata": {
    "collapsed": false
   },
   "outputs": [],
   "source": [
    "raw = urllib.request.urlretrieve(\"http://graphics.wsj.com/hillary-clinton-email-documents/api/search.php?subject=&text=&to=&from=&start=&end=&sort=docDate&order=desc&docid=&limit=27159&offset=0\",\n",
    "                   \"emails.json\")"
   ]
  },
  {
   "cell_type": "code",
   "execution_count": 3,
   "metadata": {
    "collapsed": false
   },
   "outputs": [
    {
     "name": "stdout",
     "output_type": "stream",
     "text": [
      "number of rows:  27159\n"
     ]
    }
   ],
   "source": [
    "import json\n",
    "\n",
    "fp = open(\"emails.json\", \"r\")\n",
    "emails = json.load(fp)\n",
    "fp.close()\n",
    "data = emails['rows']\n",
    "print(\"number of rows: \", len(data))"
   ]
  },
  {
   "cell_type": "code",
   "execution_count": 4,
   "metadata": {
    "collapsed": false
   },
   "outputs": [
    {
     "name": "stdout",
     "output_type": "stream",
     "text": [
      "number of rows (after cleaning):  26076\n"
     ]
    }
   ],
   "source": [
    "def acceptable_field(f):\n",
    "    return f.strip() != \"\" and f.find(\";\") == -1\n",
    "data = [x for x in data if acceptable_field(x['from']) and acceptable_field(x['to'])]\n",
    "print(\"number of rows (after cleaning): \", len(data))"
   ]
  },
  {
   "cell_type": "code",
   "execution_count": 18,
   "metadata": {
    "collapsed": false,
    "scrolled": false
   },
   "outputs": [
    {
     "name": "stderr",
     "output_type": "stream",
     "text": [
      "WARNING: \"node\" is unbound, automatically binding it to \"__nodeid__\".\n"
     ]
    },
    {
     "data": {
      "text/html": [
       "\n",
       "            <iframe id=\"46f12537-ecca-49ef-aafa-252d0178bade\" src=\"https://labs.graphistry.com/graph/graph.html?dataset=PyGraphistry/Z9D82S6BOX&type=vgraph&viztoken=db014f5ee473147e64b2bbbacd70ea1c552f3b83&usertag=10c6cb5f-pygraphistry-0.9.25&splashAfter=1459360738&info=true\"\n",
       "                    style=\"width:100%; height:500px; border: 1px solid #DDD\">\n",
       "            </iframe>\n",
       "        \n",
       "            <script>\n",
       "                $(\"#46f12537-ecca-49ef-aafa-252d0178bade\").bind('mousewheel', function(e) {\n",
       "                e.preventDefault();\n",
       "                });\n",
       "            </script>\n",
       "        "
      ],
      "text/plain": [
       "<IPython.core.display.HTML object>"
      ]
     },
     "execution_count": 18,
     "metadata": {},
     "output_type": "execute_result"
    }
   ],
   "source": [
    "names = []\n",
    "edgelist = []\n",
    "for row in data:\n",
    "    if not row['from'] in names:\n",
    "        names += [row['from']]\n",
    "    if not row['to'] in names:\n",
    "        names += [row['to']]\n",
    "    edgelist += [(names.index(row['from']), names.index(row['to']))]\n",
    "\n",
    "G = igraph.Graph(n=len(names), edges=edgelist, vertex_attrs={ 'name' : names }, directed=True)\n",
    "graphistry.bind(source='from', destination='to').plot(G)"
   ]
  },
  {
   "cell_type": "markdown",
   "metadata": {},
   "source": [
    "Use this link if graph does not display: <a href=\"https://labs.graphistry.com/graph/graph.html?dataset=PyGraphistry/Z9D82S6BOX&amp;type=vgraph&\n",
    "\n",
    "(If it still isn't filtered, use the filter button (third from the bottom) on the side panel and write \"point:degree >= 70\")"
   ]
  },
  {
   "cell_type": "markdown",
   "metadata": {},
   "source": [
    "I had a lot of issues when trying to view iGraph plots, which prompted me to search for other Python modules for viewing node and edge graphs.  I stumbled upon this GitHub repository (https://github.com/graphistry/pygraphistry) for a module called Graphistry.  The team that designed it is from University of California at Berkeley. It had lots of demonstrations for how to use the module's features effectively, and I thought it would be a great way to implement the graphical part of this analysis.  \n",
    "\n",
    "Graphistry is a very cool tool, because it allows the user to work interactively with the plot without changing the code each time.  Here are some of the things I noticed about Clinton's email network:\n",
    "\n",
    "With the histogram tool in the control panel, I filtered the different number of users.  When it was set to be only points with degree 24.5k and up, the only point was Hillary Clinton.  I found that Hillary is just like me, and must occasionally send herself emails as reminders, since she was the only point on the filtered graph, but it still had four edges.  I can also see that she responded directly to less than half of the emails she recieved, as her degree_in is 18,040, and her degree_out is 7,361. \n",
    "\n",
    "I filtered the graph to only include those with degree 70 and higher.  I chose 70 based on the calculation below, which found that 70 is the average degree of Clinton's email contacts.  This left 30 nodes in the graph, implying that Clinton had a small, but very close circle of confidants among her colleagues. \n",
    "\n",
    "The biggest drawback of Graphistry is that it appears to have been designed to work primarily with comma separated value files and Python's Pandas module, and this data is in JSON format.  To work around this in my following steps, I converted the file to CSV using this website: http://konklone.io/json/"
   ]
  },
  {
   "cell_type": "code",
   "execution_count": 15,
   "metadata": {
    "collapsed": false,
    "scrolled": false
   },
   "outputs": [
    {
     "name": "stdout",
     "output_type": "stream",
     "text": [
      "number of edges (before simplification):  622\n",
      "number of edges (after simplification):  622\n"
     ]
    },
    {
     "data": {
      "text/plain": [
       "{'bindings': {'destination': 'to',\n",
       "  'edge_color': None,\n",
       "  'edge_label': None,\n",
       "  'edge_title': None,\n",
       "  'edge_weight': None,\n",
       "  'edges': None,\n",
       "  'node': None,\n",
       "  'nodes': None,\n",
       "  'point_color': None,\n",
       "  'point_label': None,\n",
       "  'point_size': None,\n",
       "  'point_title': None,\n",
       "  'source': 'from'},\n",
       " 'settings': {'height': 500, 'url_params': {'info': 'true'}}}"
      ]
     },
     "execution_count": 15,
     "metadata": {},
     "output_type": "execute_result"
    }
   ],
   "source": [
    "print(\"number of edges (before simplification): \", len(G.es))\n",
    "G.es['weight'] = [1]*len(G.es)\n",
    "G.simplify(combine_edges=sum)\n",
    "print(\"number of edges (after simplification): \", len(G.es))\n",
    "graphistry.bind(source='from', destination='to')"
   ]
  },
  {
   "cell_type": "markdown",
   "metadata": {},
   "source": [
    "I wanted to filter the graph based on the average number of degrees each email contact had in the graph, as I showed above.  This is the calculation I did, which is modified from the Reddit comments lab, to find the average degree between the email contacts.  "
   ]
  },
  {
   "cell_type": "code",
   "execution_count": 17,
   "metadata": {
    "collapsed": false
   },
   "outputs": [
    {
     "name": "stdout",
     "output_type": "stream",
     "text": [
      "The average degree of connectedness between the email contacts is:  69.2276933059538\n"
     ]
    }
   ],
   "source": [
    "from math import sqrt\n",
    "clintonDegree = list(map(lambda x,y: sqrt(x*y), G.indegree(), G.outdegree()))\n",
    "averageDegree = sum(clintonDegree) / float(len(clintonDegree))\n",
    "print(\"The average degree of connectedness between the email contacts is: \", averageDegree)"
   ]
  },
  {
   "cell_type": "markdown",
   "metadata": {},
   "source": [
    "Thus, on average the people in Clinton's email network sent a recieved an average total of 70 emails.  This number appears to be skewed fairly highly by the her top email contacts, considering only 30 people are above the average degree.  This makes sense, as any important person will have many close colleagues and friends, and distant acquiantances.  "
   ]
  },
  {
   "cell_type": "code",
   "execution_count": 26,
   "metadata": {
    "collapsed": false
   },
   "outputs": [],
   "source": [
    "csv_raw = pd.read_csv(\"result.csv\")"
   ]
  },
  {
   "cell_type": "markdown",
   "metadata": {},
   "source": [
    "In the following cell, I compute the pageranks and communities of Clinton's emails csv file.  Graphistry has a neat feature which allows the user to size each node based on its pagerank score, and color each edge based on its community.  A community structure is similar to a clustering of data, where each community is a collection of nodes and edges more closely connected to one another.  (https://en.wikipedia.org/wiki/Community_structure) "
   ]
  },
  {
   "cell_type": "code",
   "execution_count": 27,
   "metadata": {
    "collapsed": false
   },
   "outputs": [
    {
     "name": "stderr",
     "output_type": "stream",
     "text": [
      "WARNING: \"node\" is unbound, automatically binding it to \"__nodeid__\".\n"
     ]
    },
    {
     "data": {
      "text/html": [
       "\n",
       "            <iframe id=\"03e612fd-6d12-4fcd-956c-bf422738f024\" src=\"https://labs.graphistry.com/graph/graph.html?dataset=PyGraphistry/9N8Q7W6A6R&type=vgraph&viztoken=dae075c6e2a0af94db736faa1e295bcaa6aaf37d&usertag=10c6cb5f-pygraphistry-0.9.25&splashAfter=1459363167&info=true\"\n",
       "                    style=\"width:100%; height:500px; border: 1px solid #DDD\">\n",
       "            </iframe>\n",
       "        \n",
       "            <script>\n",
       "                $(\"#03e612fd-6d12-4fcd-956c-bf422738f024\").bind('mousewheel', function(e) {\n",
       "                e.preventDefault();\n",
       "                });\n",
       "            </script>\n",
       "        "
      ],
      "text/plain": [
       "<IPython.core.display.HTML object>"
      ]
     },
     "execution_count": 27,
     "metadata": {},
     "output_type": "execute_result"
    }
   ],
   "source": [
    "plotter = graphistry.bind(source = \"from\", destination = \"to\")\n",
    "ig = plotter.pandas2igraph(csv_raw)\n",
    "ig.vs['pagerank'] = ig.pagerank()\n",
    "ig.vs['community'] = ig.community_infomap().membership\n",
    "\n",
    "plotter.bind(point_color='community', point_size='pagerank').plot(ig)"
   ]
  },
  {
   "cell_type": "markdown",
   "metadata": {},
   "source": [
    "Use this link if the graph does not display inline: <a href=\"https://labs.graphistry.com/graph/graph.html?dataset=PyGraphistry/9N8Q7W6A6R&amp;type=vgraph&"
   ]
  },
  {
   "cell_type": "markdown",
   "metadata": {},
   "source": [
    "I left the graph unfiltered at first to get a view of the entire email network population.  The colors of the communities really show here, and, as one would expect, the largest one is of Hillary's close circle of colleagues, which is colored in light blue.  The only node that is clearly sized larger than the others is Hillary Clinton, in the center of the graph.  So, the pagerank algorithm only found a big difference between her node and every other node.  This feature of the module could be used better in a different situation, where the nodes are not all directly connected to one person in particular.  Interestingly, there is another community in dark blue which also includes Hillary.  This could reflect a difference between colleague networks and family and friends networks.  Besides these communitites, there are a few smaller communities, probably reflecting separate projects that she is taking part in that do not directly pertain to her work as Secretary of State."
   ]
  },
  {
   "cell_type": "code",
   "execution_count": 28,
   "metadata": {
    "collapsed": false
   },
   "outputs": [
    {
     "data": {
      "text/html": [
       "\n",
       "            <iframe id=\"ef4dc753-9f38-4071-b6fe-fe282c471940\" src=\"https://labs.graphistry.com/graph/graph.html?dataset=PyGraphistry/BZDOV7SRPR&type=vgraph&viztoken=654b170f68a43f6aa44c35536c242f730cf19999&usertag=10c6cb5f-pygraphistry-0.9.25&splashAfter=1459364426&info=true\"\n",
       "                    style=\"width:100%; height:500px; border: 1px solid #DDD\">\n",
       "            </iframe>\n",
       "        \n",
       "            <script>\n",
       "                $(\"#ef4dc753-9f38-4071-b6fe-fe282c471940\").bind('mousewheel', function(e) {\n",
       "                e.preventDefault();\n",
       "                });\n",
       "            </script>\n",
       "        "
      ],
      "text/plain": [
       "<IPython.core.display.HTML object>"
      ]
     },
     "execution_count": 28,
     "metadata": {},
     "output_type": "execute_result"
    }
   ],
   "source": [
    "plotter.bind(point_color='community', point_size='pagerank').plot(ig)"
   ]
  },
  {
   "cell_type": "markdown",
   "metadata": {},
   "source": [
    "Use this link if the graph does not display inline:\n",
    "    <a href=\"https://labs.graphistry.com/graph/graph.html?dataset=PyGraphistry/BZDOV7SRPR&amp;type=vgraph&\n",
    "\n",
    "(If it still isn't filtered, use the filter button (third from the bottom) on the side panel and write \"point:degree >= 70\")"
   ]
  },
  {
   "cell_type": "markdown",
   "metadata": {},
   "source": [
    "Then, I shrunk the graph to only include those with degree 70 and above to take a closer look at the two main communities that Clinton is a part of.  Dennis Ross and William Burns are the two main members of the dark blue community, besides Clinton herself.  Dennis Ross is an American diplomat who advised Hillary while she was Secretary of State about the Persian Gulf and Southwest Asian regions (https://en.wikipedia.org/wiki/Dennis_Ross).  William Burns was the Deputy Secretary of State between 2011 and 2014 (https://en.wikipedia.org/wiki/William_Joseph_Burns). So, my theory about Clinton using her email primarily among friends as well as colleagues may have been incorrect, assuming that the largest community was not entirely her friends and family, considering it was a work email."
   ]
  },
  {
   "cell_type": "code",
   "execution_count": null,
   "metadata": {
    "collapsed": true
   },
   "outputs": [],
   "source": []
  }
 ],
 "metadata": {
  "kernelspec": {
   "display_name": "Python 3",
   "language": "python",
   "name": "python3"
  },
  "language_info": {
   "codemirror_mode": {
    "name": "ipython",
    "version": 3
   },
   "file_extension": ".py",
   "mimetype": "text/x-python",
   "name": "python",
   "nbconvert_exporter": "python",
   "pygments_lexer": "ipython3",
   "version": "3.4.4"
  }
 },
 "nbformat": 4,
 "nbformat_minor": 0
}
